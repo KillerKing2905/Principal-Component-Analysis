{
  "nbformat": 4,
  "nbformat_minor": 0,
  "metadata": {
    "colab": {
      "provenance": []
    },
    "kernelspec": {
      "name": "python3",
      "display_name": "Python 3"
    },
    "language_info": {
      "name": "python"
    }
  },
  "cells": [
    {
      "cell_type": "markdown",
      "source": [
        "## **Genralized Code**"
      ],
      "metadata": {
        "id": "E_r15MydMBsw"
      }
    },
    {
      "cell_type": "code",
      "execution_count": 208,
      "metadata": {
        "id": "tfKu6W50j09u"
      },
      "outputs": [],
      "source": [
        "#libraries\n",
        "import numpy as np\n",
        "import matplotlib.pyplot as plt\n",
        "\n",
        "# Defining Variables\n",
        "n=7\n",
        "var=1\n",
        "forcemean=0\n",
        "stiffnessmean=1\n",
        "r=5\n",
        "#computing stiffness Values\n",
        "k = np.zeros((n,1))\n",
        "for x in range(n):\n",
        "  k[x][0] = (1 / (np.sqrt(2 * np.pi) * var)) * np.exp(-(np.square(x - stiffnessmean)) / (2 * np.square(var)))\n",
        "\n",
        "\n",
        "#computing Force Values\n",
        "F = np.zeros((n,1))\n",
        "for x in range(n):\n",
        "  F[x][0]=(1/((np.sqrt(2*np.pi))*var))*np.exp(-(np.square(x-forcemean))/(2*np.square(var)))\n",
        "\n",
        "#Stiffness matrix\n",
        "StiffMat=np.zeros((n,n))\n",
        "StiffMat_inv=np.zeros((n,n))\n",
        "StiffMat[0][0]=1/k[0][0]\n",
        "\n",
        "# Filling StiffMat\n",
        "for i in range(n):\n",
        "    for j in range(i,n):\n",
        "        if i==j:\n",
        "            StiffMat[i][j]=StiffMat[i-1][j-1]+1/k[i][0]\n",
        "        else:\n",
        "            StiffMat[i][j]=StiffMat[i][j-1]\n",
        "\n",
        "for j in range(n):\n",
        "    for i in range(j,n):\n",
        "      if i!=j:\n",
        "        StiffMat[i][j]=StiffMat[i-1][j]"
      ]
    },
    {
      "cell_type": "markdown",
      "source": [
        "## **Computing Displacement from Force Vector and Stiffness Matrix**"
      ],
      "metadata": {
        "id": "jmsuJ4jMNRP5"
      }
    },
    {
      "cell_type": "code",
      "source": [
        "\n",
        "#Calculating Displacement Vector\n",
        "Disp = np.zeros((n,1))\n",
        "ForceT=np.matrix.transpose(F)\n",
        "StiffMat_inv=np.linalg.inv(StiffMat)\n",
        "Disp=np.dot(StiffMat_inv,F)\n"
      ],
      "metadata": {
        "id": "h1JAn6XgNP1Z"
      },
      "execution_count": 209,
      "outputs": []
    },
    {
      "cell_type": "markdown",
      "source": [
        "### **PCA** **APPROACH**\n"
      ],
      "metadata": {
        "id": "0wEM4nD_kKS6"
      }
    },
    {
      "cell_type": "code",
      "source": [
        "#Finding Mean Displacement\n",
        "sum=0\n",
        "for i in range(n):\n",
        "  sum=sum+Disp[i][0]\n",
        "\n",
        "u2 = np.zeros((n,1))\n",
        "u3 = np.zeros((r,1))\n",
        "for i in range(0,n):\n",
        "  u2[i][0]=sum/n\n",
        "for i in range(r):\n",
        "  u3[i][0]=sum/n\n",
        "u=sum/n\n",
        "Dispnew = np.zeros((n,1))\n",
        "#subtracting the mean from the Displacment Values\n",
        "Dispnew=Disp-u2\n",
        "\n",
        "#Transpose of Dispnew for Covariance Matrix\n",
        "DispnewT = np.transpose(Dispnew)\n",
        "# Calculate Covariance matrix\n",
        "result = np.dot(Dispnew,DispnewT)\n",
        "\n",
        "\n",
        "#Finding Eigen Vectors and Eigen Values\n",
        "EigenVector=np.zeros((n,n))\n",
        "EigenValues=np.zeros((n,1))\n",
        "EigenValues,EigenVectors = np.linalg.eig(result)\n",
        "\n",
        "#ordering the Eigen Values and the Eigwn Vectors\n",
        "sorted_EigenVectors=np.zeros((n,n))\n",
        "sorted_EigenValues=np.zeros((n,1))\n",
        "\n",
        "sorted_indices = np.argsort(EigenValues)[::-1]\n",
        "sorted_EigenValues = EigenValues[sorted_indices]\n",
        "sorted_EigenVectors = EigenVectors[:, sorted_indices]\n",
        "\n",
        "#Selceting First R values\n",
        "selected_eigenvectors=np.zeros((n,r))\n",
        "selected_eigenvalues=np.zeros((n,1))\n",
        "\n",
        "# Select top r eigenvectors\n",
        "selected_eigenvectors = sorted_EigenVectors[:, :r]\n",
        "selected_eigenvalues= sorted_EigenValues[:r]\n",
        "selected_eigenvectorsT=np.transpose(selected_eigenvectors)\n",
        "\n",
        "#Displacement Prediction\n",
        "DispPred=np.zeros((1,r))\n",
        "DispPred = np.dot(DispnewT, selected_eigenvectors)\n",
        "DispPred2=np.zeros((r,1))\n",
        "DispPred2=np.transpose(DispPred)+u3\n",
        "sum2=0\n",
        "for i in range(r):\n",
        "  sum2=sum2+DispPred2[i][0]\n",
        "u5=sum/r\n",
        "#DispPred3=np.dot(selected_eigenvectors, np.dot(np.diag(selected_eigenvalues), selected_eigenvectors.T))\n",
        "print(\"Prediction Value By PCA \",DispPred2)\n",
        "print(\"Original Displacement Values\",Dispnew)\n",
        "print(\"Mean Displacement using PCA=\",u5)\n",
        "print(\"Mean Displacement Orginal=\",u)\n"
      ],
      "metadata": {
        "colab": {
          "base_uri": "https://localhost:8080/"
        },
        "id": "mE7FabgdkSLk",
        "outputId": "68f0ccc7-8dab-4ec9-dc04-833620c6600e"
      },
      "execution_count": 210,
      "outputs": [
        {
          "output_type": "stream",
          "name": "stdout",
          "text": [
            "Prediction Value By PCA  [[0.17544584+0.00000000e+00j]\n",
            " [0.01379034-5.20417043e-18j]\n",
            " [0.01379034+5.20417043e-18j]\n",
            " [0.01379034+0.00000000e+00j]\n",
            " [0.01379034+0.00000000e+00j]]\n",
            "Original Displacement Values [[ 0.14536461]\n",
            " [-0.03092733]\n",
            " [-0.05660019]\n",
            " [-0.01644703]\n",
            " [-0.01380937]\n",
            " [-0.01379035]\n",
            " [-0.01379034]]\n",
            "Mean Displacement using PCA= 0.01930647052601078\n",
            "Mean Displacement Orginal= 0.0137903360900077\n"
          ]
        }
      ]
    },
    {
      "cell_type": "markdown",
      "source": [
        "### **MODE SHAPE APPROACH**"
      ],
      "metadata": {
        "id": "GnLVIIMmmZNn"
      }
    },
    {
      "cell_type": "code",
      "source": [
        "EigenVector2=np.zeros((n,n))\n",
        "EigenValues2=np.zeros((n,1))\n",
        "\n",
        "EigenValues2,EigenVectors2 = np.linalg.eig(StiffMat)\n",
        "\n",
        "#ordering the Eigen Values and the Eigwn Vectors\n",
        "sorted_indices2 = np.argsort(EigenValues2)[::-1]\n",
        "sorted_EigenValues2= EigenValues2[sorted_indices]\n",
        "sorted_EigenVectors2 = EigenVectors2[:, sorted_indices]\n",
        "\n",
        "#Selceting First R values\n",
        "# Select top r eigenvectors\n",
        "selected_eigenvectors2 = sorted_EigenVectors2[:, :r]\n",
        "selected_eigenvalues2= sorted_EigenValues2[:r]\n",
        "selected_eigenvectorsT=np.transpose(selected_eigenvectors2)\n",
        "\n",
        "#Displacement Prediction\n",
        "DispPred3=np.zeros((1,r))\n",
        "DispPred4=np.zeros((r,1))\n",
        "#DispPred5=np.zeros(r)\n",
        "#for i in range(r):\n",
        "#DispPred5[i]=F[i][0]/selected_eigenvalues2[i]\n",
        "DispPred3= np.dot(DispnewT, selected_eigenvectors2)\n",
        "DispPred4=np.transpose(DispPred3)\n",
        "sum3=0\n",
        "for i in range(r):\n",
        "  sum3=sum3+DispPred4[i][0]\n",
        "u5=sum3/r\n",
        "print(\"Prediction Value Using Mode Shape \",DispPred4.real)\n",
        "print(\"Original Displacement\",Dispnew)\n",
        "print(\"Mean Displacement New=\",u5)\n",
        "print(\"Mean Displacement Orginal=\",u)"
      ],
      "metadata": {
        "colab": {
          "base_uri": "https://localhost:8080/"
        },
        "id": "rJf5EWrPmhZO",
        "outputId": "5bd55fbd-8e92-4edd-ca4e-d49e567dbe85"
      },
      "execution_count": 211,
      "outputs": [
        {
          "output_type": "stream",
          "name": "stdout",
          "text": [
            "Prediction Value Using Mode Shape  [[-0.01395409]\n",
            " [-0.02075581]\n",
            " [-0.10520995]\n",
            " [-0.11699731]\n",
            " [-0.01627   ]]\n",
            "Original Displacement [[ 0.14536461]\n",
            " [-0.03092733]\n",
            " [-0.05660019]\n",
            " [-0.01644703]\n",
            " [-0.01380937]\n",
            " [-0.01379035]\n",
            " [-0.01379034]]\n",
            "Mean Displacement New= -0.0546374325485956\n",
            "Mean Displacement Orginal= 0.0137903360900077\n"
          ]
        }
      ]
    },
    {
      "cell_type": "markdown",
      "source": [
        "## **Comparing the Principle Directions From Both The Approach**"
      ],
      "metadata": {
        "id": "Mh2Ps2cRqjmc"
      }
    },
    {
      "cell_type": "code",
      "source": [
        "print(\"Principle Direction for PCA=\")\n",
        "for i in range(n):\n",
        "    for j in range(r):\n",
        "        print(selected_eigenvectors[i][j].real, end=' ')\n",
        "    print()\n",
        "print()\n",
        "\n",
        "print(\"Principle Direction for Mode Shape Approach\")\n",
        "for i in range(n):\n",
        "    for j in range(r):\n",
        "        print(selected_eigenvectors2[i][j].real, end=' ')\n",
        "    print()"
      ],
      "metadata": {
        "colab": {
          "base_uri": "https://localhost:8080/"
        },
        "id": "1zW6MfAAqrgB",
        "outputId": "f56e007b-d3c1-45f4-8a02-aaf26ea5291b"
      },
      "execution_count": 212,
      "outputs": [
        {
          "output_type": "stream",
          "name": "stdout",
          "text": [
            "Principle Direction for PCA=\n",
            "0.8992246271005957 -0.044504880059561006 -0.044504880059561006 -0.026238759195950246 -0.015784350794602702 \n",
            "-0.19131627596535916 -0.044265887614449995 -0.044265887614449995 0.020791366750581946 0.0361114757759407 \n",
            "-0.35012844925602093 -0.1669188677937118 -0.1669188677937118 -0.15650421935226683 -0.31785607149321893 \n",
            "-0.10174124961609284 0.2828423982633019 0.2828423982633019 0.37220915646216995 0.9257540395042465 \n",
            "-0.0854246624175188 -0.5456781491981946 -0.5456781491981946 -0.7798612073842511 -0.10357986939196667 \n",
            "-0.0853070496909931 0.6973389643163331 0.6973389643163331 0.24936224553075922 -0.09000542884358728 \n",
            "-0.08530694015461063 -0.17300294778284647 -0.17300294778284647 0.406793544044387 0.14684694473896814 \n",
            "\n",
            "Principle Direction for Mode Shape Approach\n",
            "6.145757549905105e-06 -0.3899379561330789 -0.6561155124590347 -0.6146016221378873 0.01953317555455396 \n",
            "9.87332529088854e-06 -0.521629019902263 0.7207119141180945 -0.3393914408841139 0.031185393388300616 \n",
            "1.6018985546494442e-05 -0.5075707876396164 -0.22348828867359732 0.7043090224050071 0.049882702445948855 \n",
            "4.356148790494633e-05 0.563588183434562 0.011821742993106777 -0.10500402734215084 0.12999387178339478 \n",
            "0.0003790834111565376 -0.02432714669592285 -4.875656324827351e-05 0.001118535107967206 0.9889787200395611 \n",
            "0.01148588067833142 3.03978051659729e-05 6.047377874193353e-09 -3.56010099203695e-07 -0.034355883515858804 \n",
            "0.9999339620951708 -4.2143039708278424e-10 -8.470555334060618e-15 1.258408793581565e-12 1.2813251611029194e-05 \n"
          ]
        }
      ]
    },
    {
      "cell_type": "markdown",
      "source": [
        "### **PLOTTING MSE FOR PCA APPROACH**"
      ],
      "metadata": {
        "id": "SYguHYsMke0Y"
      }
    },
    {
      "cell_type": "code",
      "source": [
        "#MSE\n",
        "mse=np.zeros(r)\n",
        "for i in range(r):\n",
        "  mse[i]=(u-DispPred2[i][0].real)*(u-DispPred2[i][0].real)\n",
        "\n",
        "#Plotting MSE Vs R\n",
        "plt.plot(mse, marker='o', linestyle='-')\n",
        "plt.xlabel('R')\n",
        "plt.ylabel('MSE')\n",
        "plt.title('Plot of MSE against R FOR PCA')\n",
        "plt.grid(True)\n",
        "plt.show()\n"
      ],
      "metadata": {
        "colab": {
          "base_uri": "https://localhost:8080/",
          "height": 472
        },
        "id": "sufRshagkm7R",
        "outputId": "c66764b3-00d8-43cd-adb7-3dfa22e1fe3e"
      },
      "execution_count": 213,
      "outputs": [
        {
          "output_type": "display_data",
          "data": {
            "text/plain": [
              "<Figure size 640x480 with 1 Axes>"
            ],
            "image/png": "[encoded data removed]"
          },
          "metadata": {}
        }
      ]
    },
    {
      "cell_type": "markdown",
      "source": [
        "##**When The Displacement Data is Comming With Noise of +/-8%**"
      ],
      "metadata": {
        "id": "EawmRlhLONMo"
      }
    },
    {
      "cell_type": "code",
      "source": [
        "#Generating noise\n",
        "Error_percentage=8\n",
        "noise=np.random.uniform(-Error_percentage/100,Error_percentage/100,(n,1))\n",
        "\n",
        "#Adding noise to the displacement vector\n",
        "Disp_noise=Disp+Disp*noise\n",
        "\n",
        "#Finding Mean Displacement\n",
        "sum=0\n",
        "for i in range(n):\n",
        "  sum=sum+Disp_noise[i][0]\n",
        "\n",
        "u2 = np.zeros((n,1))\n",
        "u3 = np.zeros((r,1))\n",
        "for i in range(0,n):\n",
        "  u2[i][0]=sum/n\n",
        "for i in range(r):\n",
        "  u3[i][0]=sum/n\n",
        "\n",
        "Dispnew_noise = np.zeros((n,1))\n",
        "#subtracting the mean from the Displacment Values\n",
        "Dispnew_noise=Disp_noise-u2\n",
        "\n",
        "#Transpose of Dispnew for Covariance Matrix\n",
        "DispnewT_noise = np.transpose(Dispnew_noise)\n",
        "# Calculate Covariance matrix\n",
        "result_noise = np.dot(Dispnew_noise,DispnewT_noise)\n",
        "\n",
        "\n",
        "#Finding Eigen Vectors and Eigen Values\n",
        "EigenVector_noise=np.zeros((n,n))\n",
        "EigenValues_noise=np.zeros((n,1))\n",
        "EigenValues_noise,EigenVectors_noise = np.linalg.eig(result_noise)\n",
        "\n",
        "#ordering the Eigen Values and the Eigwn Vectors\n",
        "sorted_EigenVectors_noise=np.zeros((n,n))\n",
        "sorted_EigenValues_noise=np.zeros((n,1))\n",
        "\n",
        "sorted_indices_noise=np.argsort(EigenValues_noise)[::-1]\n",
        "sorted_EigenValues_noise=EigenValues[sorted_indices_noise]\n",
        "sorted_EigenVectors_noise=EigenVectors[:, sorted_indices_noise]\n",
        "\n",
        "#Selceting First R values\n",
        "selected_eigenvectors_noise=np.zeros((n,r))\n",
        "selected_eigenvalues_noise=np.zeros((n,1))\n",
        "\n",
        "# Select top r eigenvectors\n",
        "selected_eigenvectors_noise = sorted_EigenVectors_noise[:, :r]\n",
        "selected_eigenvalues_noise= sorted_EigenValues_noise[:r]\n",
        "selected_eigenvectorsT_noise=np.transpose(selected_eigenvectors_noise)\n",
        "\n",
        "#Displacement Prediction\n",
        "DispPred_noise=np.zeros((1,r))\n",
        "DispPred_noise = np.dot(DispnewT_noise, selected_eigenvectors_noise)\n",
        "DispPred2_noise=np.zeros((r,1))\n",
        "DispPred2_noise=np.transpose(DispPred_noise)+u3\n",
        "sum2=0\n",
        "for i in range(r):\n",
        "  sum2=sum2+DispPred2_noise[i][0]\n",
        "u5=sum/r\n",
        "#DispPred3=np.dot(selected_eigenvectors, np.dot(np.diag(selected_eigenvalues), selected_eigenvectors.T))\n",
        "print(\"Prediction Value By PCA \",DispPred2_noise.real)\n",
        "print(\"Original Displacement Values\",Dispnew_noise)\n",
        "print(\"Mean Displacement usin PCA=\",u5)\n",
        "print(\"Mean Displacement Orginal=\",u)\n",
        "\n",
        "#MSE\n",
        "mse=np.zeros(r)\n",
        "for i in range(r):\n",
        "  mse[i]=(u-DispPred2_noise[i][0].real)*(u-DispPred2_noise[i][0].real)\n",
        "\n",
        "#Plotting MSE Vs R\n",
        "\n",
        "# Plotting the values against their indices\n",
        "plt.plot(mse, marker='o', linestyle='-')\n",
        "plt.xlabel('R')\n",
        "plt.ylabel('MSE')\n",
        "plt.title('Plot of MSE against R FOR PCA')\n",
        "plt.grid(True)\n",
        "plt.show()\n"
      ],
      "metadata": {
        "colab": {
          "base_uri": "https://localhost:8080/",
          "height": 715
        },
        "id": "Oz_awF24ObMY",
        "outputId": "e1de9d76-3ca9-425b-982e-f07b4d44f030"
      },
      "execution_count": 214,
      "outputs": [
        {
          "output_type": "stream",
          "name": "stdout",
          "text": [
            "Prediction Value By PCA  [[0.17456809]\n",
            " [0.01440209]\n",
            " [0.01381678]\n",
            " [0.01380063]\n",
            " [0.01169862]]\n",
            "Original Displacement Values [[ 0.14454136]\n",
            " [-0.03031338]\n",
            " [-0.05814877]\n",
            " [-0.01589988]\n",
            " [-0.01340506]\n",
            " [-0.01338714]\n",
            " [-0.01338713]]\n",
            "Mean Displacement usin PCA= 0.01874197618206811\n",
            "Mean Displacement Orginal= 0.0137903360900077\n"
          ]
        },
        {
          "output_type": "display_data",
          "data": {
            "text/plain": [
              "<Figure size 640x480 with 1 Axes>"
            ],
            "image/png": "[encoded data removed]"
          },
          "metadata": {}
        }
      ]
    }
  ]
}